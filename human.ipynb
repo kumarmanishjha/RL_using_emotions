{
 "cells": [
  {
   "cell_type": "markdown",
   "metadata": {},
   "source": [
    "### 19. Remove Nth Node From End of List - Medium\n",
    "\n",
    "\n",
    "Given a linked list, remove the n-th node from the end of list and return its head. <br>\n",
    "<br>\n",
    "Example:<br>\n",
    "\n",
    "Given linked list: 1->2->3->4->5, and n = 2.<br>\n",
    "\n",
    "After removing the second node from the end, the linked list becomes 1->2->3->5.<br>\n",
    "Note:<br>\n",
    "\n",
    "Given n will always be valid.<br>\n",
    "<br>\n",
    "Follow up:<br>\n",
    "\n",
    "Could you do this in one pass?"
   ]
  },
  {
   "cell_type": "code",
   "execution_count": 37,
   "metadata": {},
   "outputs": [],
   "source": [
    "# Definition for singly-linked list.\n",
    "class ListNode:\n",
    "    def __init__(self, val=0, next=None):\n",
    "        self.val = val\n",
    "        self.next = next\n",
    "        \n",
    "    "
   ]
  },
  {
   "cell_type": "code",
   "execution_count": 38,
   "metadata": {},
   "outputs": [],
   "source": [
    "class SLinkedList:\n",
    "    def __init__(self, head):\n",
    "        self.head = head\n",
    "    \n",
    "    def get_length(self):\n",
    "        curr_Node = self.head\n",
    "        length = 0\n",
    "        while(True):\n",
    "            length += 1\n",
    "            curr_Node = curr_Node.next\n",
    "            if curr_Node is None:\n",
    "                break\n",
    "        return length\n",
    "    \n",
    "    def print_list(self):\n",
    "        curr_Node = self.head\n",
    "        while(True):\n",
    "            print(curr_Node.val)\n",
    "            curr_Node = curr_Node.next\n",
    "            if curr_Node is None:\n",
    "                break\n",
    "            "
   ]
  },
  {
   "cell_type": "code",
   "execution_count": 39,
   "metadata": {},
   "outputs": [],
   "source": [
    "c = ListNode(4, None)\n",
    "b = ListNode(3, c)\n",
    "a = ListNode(2, b)\n",
    "L = SLinkedList(a)"
   ]
  },
  {
   "cell_type": "code",
   "execution_count": 40,
   "metadata": {},
   "outputs": [
    {
     "data": {
      "text/plain": [
       "3"
      ]
     },
     "execution_count": 40,
     "metadata": {},
     "output_type": "execute_result"
    }
   ],
   "source": [
    "L.get_length()\n",
    "a.next.val"
   ]
  },
  {
   "cell_type": "code",
   "execution_count": 41,
   "metadata": {},
   "outputs": [],
   "source": [
    "def get_length(head):\n",
    "    curr_Node = head\n",
    "    length = 0\n",
    "    while(True):\n",
    "        length += 1\n",
    "        curr_Node = curr_Node.next\n",
    "        if curr_Node is None:\n",
    "            break\n",
    "    return length\n",
    "    "
   ]
  },
  {
   "cell_type": "code",
   "execution_count": 42,
   "metadata": {},
   "outputs": [],
   "source": [
    "class Solution:\n",
    "    def removeNthFromEnd(self, head: ListNode, n: int) -> ListNode:\n",
    "        pos = 0\n",
    "        curr_Node = head\n",
    "        while(True):\n",
    "            pos += 1\n",
    "            if pos == n:\n",
    "                curr_Node.next = curr_Node.next.next\n",
    "                break"
   ]
  },
  {
   "cell_type": "code",
   "execution_count": 43,
   "metadata": {},
   "outputs": [],
   "source": [
    "S = Solution()"
   ]
  },
  {
   "cell_type": "code",
   "execution_count": 44,
   "metadata": {},
   "outputs": [],
   "source": [
    "S.removeNthFromEnd(a, 2)"
   ]
  },
  {
   "cell_type": "code",
   "execution_count": 45,
   "metadata": {},
   "outputs": [
    {
     "data": {
      "text/plain": [
       "2"
      ]
     },
     "execution_count": 45,
     "metadata": {},
     "output_type": "execute_result"
    }
   ],
   "source": [
    "L.get_length()"
   ]
  },
  {
   "cell_type": "code",
   "execution_count": 46,
   "metadata": {},
   "outputs": [
    {
     "data": {
      "text/plain": [
       "4"
      ]
     },
     "execution_count": 46,
     "metadata": {},
     "output_type": "execute_result"
    }
   ],
   "source": [
    "a.next.val"
   ]
  }
 ],
 "metadata": {
  "kernelspec": {
   "display_name": "Python 3",
   "language": "python",
   "name": "python3"
  },
  "language_info": {
   "codemirror_mode": {
    "name": "ipython",
    "version": 3
   },
   "file_extension": ".py",
   "mimetype": "text/x-python",
   "name": "python",
   "nbconvert_exporter": "python",
   "pygments_lexer": "ipython3",
   "version": "3.7.4"
  }
 },
 "nbformat": 4,
 "nbformat_minor": 2
}
