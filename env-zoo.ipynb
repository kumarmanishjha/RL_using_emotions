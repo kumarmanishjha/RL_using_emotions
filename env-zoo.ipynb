{
  "nbformat": 4,
  "nbformat_minor": 0,
  "metadata": {
    "kernelspec": {
      "display_name": "Python 3",
      "language": "python",
      "name": "python3"
    },
    "language_info": {
      "codemirror_mode": {
        "name": "ipython",
        "version": 3
      },
      "file_extension": ".py",
      "mimetype": "text/x-python",
      "name": "python",
      "nbconvert_exporter": "python",
      "pygments_lexer": "ipython3",
      "version": "3.7.7"
    },
    "colab": {
      "name": "env-zoo.ipynb",
      "provenance": []
    }
  },
  "cells": [
    {
      "cell_type": "code",
      "metadata": {
        "id": "Q51EfJGc6CJ0",
        "colab_type": "code",
        "colab": {}
      },
      "source": [
        "import gym"
      ],
      "execution_count": 2,
      "outputs": []
    },
    {
      "cell_type": "code",
      "metadata": {
        "id": "-C_vfbULYmLu",
        "colab_type": "code",
        "colab": {}
      },
      "source": [
        "#Graph of all the possible locations in room\n",
        "graph = { \"a\" : [\"b\",\"c\"],\n",
        "          \"b\" : [\"a\", \"d\"],\n",
        "          \"c\" : [\"a\", \"d\"],\n",
        "          \"d\" : [\"e\"],\n",
        "          \"e\" : [\"d\"]\n",
        "         }\n",
        "\n",
        "START_LOC = 'a'\n",
        "action = {\n",
        "    \n",
        "}"
      ],
      "execution_count": 3,
      "outputs": []
    },
    {
      "cell_type": "code",
      "metadata": {
        "id": "w7TzWwGi6v_t",
        "colab_type": "code",
        "colab": {}
      },
      "source": [
        "class ZooEnvironment(gym.Env):\n",
        "  def __init__(graph):\n",
        "    self.graph = graph #Graph of the locations in room\n",
        "    self.human_loc = human_loc #Location of the human\n",
        "    self.horse_loc = horse_loc\n",
        "    self.reset()\n",
        "  \n",
        "  def reset(graph, START_LOC = 'a'):\n",
        "    self.human.reset()\n",
        "    self.horse_loc = START_LOC\n",
        "    self.state = (self.horse_loc, self.human.emotions, self.human.delta_emotions)\n",
        "    self.total_reward = 0\n",
        "    self.min_reward = - n_actions/graph_size\n",
        "    self.reward = {\n",
        "        \n",
        "    }\n",
        "\n",
        "  def step(self, action):\n",
        "    #Take action, receive reward and go to next state\n",
        "    \n",
        "\n",
        "\n",
        "  "
      ],
      "execution_count": null,
      "outputs": []
    }
  ]
}